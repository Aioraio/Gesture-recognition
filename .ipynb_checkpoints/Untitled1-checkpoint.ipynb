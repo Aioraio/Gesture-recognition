{
 "cells": [
  {
   "cell_type": "code",
   "execution_count": 13,
   "id": "99ebeba3",
   "metadata": {},
   "outputs": [],
   "source": [
    "import time\n",
    "import pyautogui as pag\n",
    "import cv2"
   ]
  },
  {
   "cell_type": "code",
   "execution_count": null,
   "id": "d01365d7",
   "metadata": {},
   "outputs": [],
   "source": []
  },
  {
   "cell_type": "code",
   "execution_count": 18,
   "id": "327780ea",
   "metadata": {
    "scrolled": true
   },
   "outputs": [],
   "source": [
    "screenWidth, screenHeight = pag.size()  # 获取屏幕的尺寸\n",
    "x, y = pag.position()  # 返回鼠标的坐标\n"
   ]
  },
  {
   "cell_type": "code",
   "execution_count": 12,
   "id": "62791142",
   "metadata": {},
   "outputs": [],
   "source": [
    "# 移动鼠标到(100, 100)位置\n",
    "pag.moveTo(800, 70, duration=0.5)\n",
    "\n",
    "# 点击鼠标左键\n",
    "pag.click()\n",
    "\n",
    "# 等待1秒\n",
    "time.sleep(1)\n",
    "\n",
    "# 模拟键盘输入\n",
    "pag.typewrite(\"Hello, PyAutoGUI!\")\n",
    "\n",
    "# # 截屏保存\n",
    "# pyautogui.screenshot(\"screenshot.png\")"
   ]
  },
  {
   "cell_type": "code",
   "execution_count": 15,
   "id": "1b0cfaf5",
   "metadata": {},
   "outputs": [],
   "source": [
    "pTime = 0\n",
    "def Frame(pTime):\n",
    "    cTime = time.time()\n",
    "    fps = 1 / (cTime - pTime)\n",
    "    pTime = cTime\n",
    "    cv2.putText(img, str(int(fps)), (10, 70), cv2.FONT_HERSHEY_PLAIN, 3, (255, 255, 255), 2)\n",
    "    return pTime"
   ]
  },
  {
   "cell_type": "code",
   "execution_count": 20,
   "id": "4e4c63d0",
   "metadata": {},
   "outputs": [
    {
     "name": "stdout",
     "output_type": "stream",
     "text": [
      "480\n",
      "640\n",
      "3\n"
     ]
    }
   ],
   "source": [
    "camera = cv2.VideoCapture(0)\n",
    "\n",
    "while True:\n",
    "    success, img = camera.read()\n",
    "    h, w, c = img.shape\n",
    "    if success:\n",
    "        img = cv2.flip(img,1) # 翻转\n",
    "        \n",
    "        pTime = Frame(pTime)\n",
    "        cv2.imshow('Video', img)\n",
    "                        \n",
    "    k = cv2.waitKey(1)\n",
    "    if k == ord('q'):\n",
    "        break\n",
    "\n",
    "\n",
    "\n",
    "camera.release()\n",
    "cv2.destroyAllWindows()\n",
    "\n",
    "print(h)\n",
    "print(w)\n",
    "print(c)"
   ]
  },
  {
   "cell_type": "code",
   "execution_count": 19,
   "id": "27cccb38",
   "metadata": {},
   "outputs": [
    {
     "data": {
      "text/plain": [
       "Size(width=1920, height=1080)"
      ]
     },
     "execution_count": 19,
     "metadata": {},
     "output_type": "execute_result"
    }
   ],
   "source": [
    "pag.size()"
   ]
  },
  {
   "cell_type": "code",
   "execution_count": 22,
   "id": "3a09fe44",
   "metadata": {},
   "outputs": [],
   "source": [
    "pag.moveTo(800, 70)"
   ]
  },
  {
   "cell_type": "code",
   "execution_count": null,
   "id": "c1613220",
   "metadata": {},
   "outputs": [],
   "source": []
  }
 ],
 "metadata": {
  "kernelspec": {
   "display_name": "Python 3 (ipykernel)",
   "language": "python",
   "name": "python3"
  },
  "language_info": {
   "codemirror_mode": {
    "name": "ipython",
    "version": 3
   },
   "file_extension": ".py",
   "mimetype": "text/x-python",
   "name": "python",
   "nbconvert_exporter": "python",
   "pygments_lexer": "ipython3",
   "version": "3.9.18"
  }
 },
 "nbformat": 4,
 "nbformat_minor": 5
}
