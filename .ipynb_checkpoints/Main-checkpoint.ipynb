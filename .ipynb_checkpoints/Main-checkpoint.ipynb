{
 "cells": [
  {
   "cell_type": "code",
   "execution_count": 1,
   "id": "29b0944d",
   "metadata": {},
   "outputs": [],
   "source": [
    "import time\n",
    "import math\n",
    "import cv2\n",
    "import mediapipe as mp\n",
    "import numpy as np\n",
    "from handUnits import HandDetector\n",
    "from gestureUnits import GestureDetector\n",
    "import os"
   ]
  },
  {
   "cell_type": "code",
   "execution_count": 2,
   "id": "527e2af5",
   "metadata": {},
   "outputs": [],
   "source": [
    "import torch\n",
    "import torch.optim\n",
    "import torch.nn as nn\n",
    "from torch.autograd import Variable\n",
    "from torch.utils.data import TensorDataset,DataLoader\n",
    "from sklearn.model_selection import train_test_split\n",
    "import pandas as pd\n",
    "\n",
    "%matplotlib inline"
   ]
  },
  {
   "cell_type": "code",
   "execution_count": 3,
   "id": "33048915",
   "metadata": {},
   "outputs": [],
   "source": [
    "class CNN(nn.Module):\n",
    "    def __init__(self):\n",
    "        super(CNN, self).__init__()\n",
    "        self.layers1 = nn.Sequential(\n",
    "            nn.Conv2d(1,16,kernel_size=3,stride=1,padding=1),\n",
    "            nn.BatchNorm2d(16),\n",
    "            nn.ReLU(inplace=True)\n",
    "        )\n",
    "        self.layers2 = nn.Sequential(\n",
    "            nn.Conv2d(16,32,kernel_size=3,stride=1,padding=1),\n",
    "            nn.BatchNorm2d(32),\n",
    "            nn.ReLU(inplace=True),\n",
    "            nn.MaxPool2d(kernel_size=2,stride=2)\n",
    "        )\n",
    "        self.layers3 = nn.Sequential(\n",
    "            nn.Conv2d(32,64,kernel_size=3,stride=1,padding=1),\n",
    "            nn.BatchNorm2d(64),\n",
    "            nn.ReLU(inplace=True),\n",
    "            nn.MaxPool2d(kernel_size=2, stride=2)\n",
    "        )\n",
    "        self.layers4 = nn.Sequential(\n",
    "            nn.Conv2d(64,128,kernel_size=3,stride=1,padding=1),\n",
    "            nn.BatchNorm2d(128),\n",
    "            nn.ReLU(inplace=True),\n",
    "\n",
    "        )\n",
    "        self.fc = nn.Sequential(\n",
    "            nn.Linear(7*7*128,1024),\n",
    "            nn.ReLU(inplace=True),\n",
    "            nn.Linear(1024,100),\n",
    "            nn.ReLU(inplace=True),\n",
    "            nn.Linear(100,26)\n",
    "        )\n",
    "    def forward(self, x):\n",
    "        x = self.layers1(x)\n",
    "        x = self.layers2(x)\n",
    "        x = self.layers3(x)\n",
    "        x = self.layers4(x)\n",
    "        x = x.view(x.size(0),-1)\n",
    "        x = self.fc(x)\n",
    "\n",
    "        return x"
   ]
  },
  {
   "cell_type": "code",
   "execution_count": 4,
   "id": "7f34bd1c",
   "metadata": {},
   "outputs": [
    {
     "data": {
      "text/plain": [
       "<All keys matched successfully>"
      ]
     },
     "execution_count": 4,
     "metadata": {},
     "output_type": "execute_result"
    }
   ],
   "source": [
    "cnn = CNN()\n",
    "cnn.load_state_dict(torch.load('E:/MyProject/GR/dataset/archive/cnn_1.pth')) # 导入网络的参数"
   ]
  },
  {
   "cell_type": "code",
   "execution_count": 26,
   "id": "e3b9acab",
   "metadata": {},
   "outputs": [],
   "source": [
    "def Frame(pTime):\n",
    "    cTime = time.time()\n",
    "    fps = 1 / (cTime - pTime)\n",
    "    pTime = cTime\n",
    "    cv2.putText(\n",
    "        img, str(int(fps)), (10, 70), cv2.FONT_HERSHEY_PLAIN, 3, (255, 255, 255), 2\n",
    "    )\n",
    "    return pTime\n",
    "\n",
    "\n",
    "\n",
    "# 获取坐标\n",
    "def get_lms(position, direction):\n",
    "    lms = []\n",
    "    if any(position[direction]):\n",
    "        for i in range(21):\n",
    "            pos_x = position[direction].get(i)[0]\n",
    "            pos_y = position[direction].get(i)[1]\n",
    "            lms.append([int(pos_x), int(pos_y)])\n",
    "    return lms\n",
    "\n",
    "\n",
    "\n",
    "# 获取感兴趣的区域图像\n",
    "def get_roi(lms, draw=True, show=False):\n",
    "\n",
    "    x_0 = 100\n",
    "    y_0 = 200\n",
    "    width = 160\n",
    "    height = 160\n",
    "\n",
    "    if draw == True:\n",
    "        cv2.rectangle(img, (x_0, y_0), (x_0 + width, y_0 + height), (0, 255, 255), 2)\n",
    "    if show == True:\n",
    "        cv2.imshow('Roi', roi)\n",
    "\n",
    "    roi = img[\n",
    "        y_0 + 2 : y_0 + height - 2, x_0 + 2 : x_0 + width - 2\n",
    "    ]  # 避免如果绘制矩形把矩形也加入roi\n",
    "\n",
    "    return roi\n",
    "\n"
   ]
  },
  {
   "cell_type": "code",
   "execution_count": 32,
   "id": "a16c22cc",
   "metadata": {},
   "outputs": [],
   "source": [
    "def get_data_img(roi, size=28):\n",
    "    img = cv2.resize(roi, (size, size))  # 默认重整为28*28尺寸\n",
    "    img = cv2.cvtColor(img, cv2.COLOR_BGR2GRAY)  # 灰度处理\n",
    "    return img"
   ]
  },
  {
   "cell_type": "code",
   "execution_count": 36,
   "id": "148f1129",
   "metadata": {},
   "outputs": [],
   "source": [
    "def cnnOut(img):\n",
    "    img = get_data_img(img)\n",
    "    img = img/255\n",
    "    img = torch.from_numpy(img)\n",
    "    img = img.to(torch.float32)\n",
    "    img = img.view(1,1,28,28)\n",
    "    img = Variable(img)\n",
    "    out = cnn(img)\n",
    "    pre = torch.max(out.data,1)[1]\n",
    "    return pre.numpy()[0]"
   ]
  },
  {
   "cell_type": "code",
   "execution_count": null,
   "id": "b4b668f8",
   "metadata": {},
   "outputs": [],
   "source": [
    "def modelOut(model, img):\n",
    "    "
   ]
  },
  {
   "cell_type": "code",
   "execution_count": 37,
   "id": "5c29a594",
   "metadata": {},
   "outputs": [],
   "source": [
    "camera = cv2.VideoCapture(0)\n",
    "hand_detector = HandDetector()\n",
    "\n",
    "\n",
    "# 帧率显示\n",
    "pTime = 0\n",
    "\n",
    "while True:\n",
    "    time_1 = time.time()\n",
    "    success, img = camera.read()\n",
    "\n",
    "    if success:\n",
    "        img = cv2.flip(img, 1)  # 水平翻转\n",
    "\n",
    "\n",
    "        hand_detector.process(img, draw=False)\n",
    "        position = hand_detector.find_position(img)\n",
    "\n",
    "        # 获取右手坐标点\n",
    "        right_lms = get_lms(position, 'Right')\n",
    "\n",
    "        # 获取左手坐标点\n",
    "        left_lms = get_lms(position, 'Left')\n",
    "\n",
    "        if left_lms:\n",
    "            roi = get_roi(left_lms)\n",
    "            res = cnnOut(roi)\n",
    "            cv2.putText(img, str(res), (200, 200), cv2.FONT_HERSHEY_PLAIN, 3, (0, 255, 255), 2)\n",
    "\n",
    "        # 统计屏幕帧率\n",
    "        pTime = Frame(pTime)\n",
    "\n",
    "        cv2.imshow('Video', img)\n",
    "\n",
    "        time_2 = time.time()\n",
    "\n",
    "    else:\n",
    "        print(\"获取失败\")\n",
    "        break\n",
    "\n",
    "    if cv2.waitKey(1) & 0xFF == ord('q'):\n",
    "        break\n",
    "\n",
    "\n",
    "camera.release()\n",
    "cv2.destroyAllWindows()"
   ]
  },
  {
   "cell_type": "code",
   "execution_count": 9,
   "id": "6038dcf7",
   "metadata": {},
   "outputs": [],
   "source": [
    "img = cv2.imread('E:/MyProject/GR/dataset/test_0.jpg',cv2.IMREAD_GRAYSCALE)\n",
    "img = cv2.resize(img,(28,28))\n",
    "img = img/255\n",
    "img = torch.from_numpy(img)\n",
    "x = img\n",
    "x = x.to(torch.float32)\n",
    "x = x.view(1,1,28,28)\n",
    "x = Variable(x)\n",
    "out = cnn(x)\n",
    "pre = torch.max(out.data,1)[1]"
   ]
  },
  {
   "cell_type": "code",
   "execution_count": 23,
   "id": "0dd57eb0",
   "metadata": {},
   "outputs": [
    {
     "data": {
      "text/plain": [
       "'0'"
      ]
     },
     "execution_count": 23,
     "metadata": {},
     "output_type": "execute_result"
    }
   ],
   "source": [
    "pre_ = pre.numpy()\n",
    "str(pre.numpy())"
   ]
  },
  {
   "cell_type": "code",
   "execution_count": null,
   "id": "27379bcc",
   "metadata": {},
   "outputs": [],
   "source": []
  }
 ],
 "metadata": {
  "kernelspec": {
   "display_name": "Python [conda env:pytorch_gpu] *",
   "language": "python",
   "name": "conda-env-pytorch_gpu-py"
  },
  "language_info": {
   "codemirror_mode": {
    "name": "ipython",
    "version": 3
   },
   "file_extension": ".py",
   "mimetype": "text/x-python",
   "name": "python",
   "nbconvert_exporter": "python",
   "pygments_lexer": "ipython3",
   "version": "3.9.18"
  }
 },
 "nbformat": 4,
 "nbformat_minor": 5
}
