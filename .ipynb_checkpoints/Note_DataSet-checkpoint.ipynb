{
 "cells": [
  {
   "cell_type": "markdown",
   "id": "fe4baf2b",
   "metadata": {},
   "source": [
    "# 数据集处理问题"
   ]
  },
  {
   "cell_type": "markdown",
   "id": "11011376",
   "metadata": {},
   "source": [
    "### 获取图像"
   ]
  },
  {
   "cell_type": "markdown",
   "id": "f99e7dc6",
   "metadata": {},
   "source": [
    "数据量小：隔帧捕获  \n",
    "数据量大： 一帧一张\n"
   ]
  },
  {
   "cell_type": "markdown",
   "id": "19b37947",
   "metadata": {},
   "source": [
    "### 图像预处理"
   ]
  },
  {
   "cell_type": "markdown",
   "id": "6840ae45",
   "metadata": {},
   "source": [
    "1.降噪  \n",
    "2.手势分割：肤色检测YCbCr（太慢，不能拿来用  \n",
    "3.背景减除"
   ]
  },
  {
   "cell_type": "code",
   "execution_count": null,
   "id": "3fdf8ace",
   "metadata": {},
   "outputs": [],
   "source": []
  }
 ],
 "metadata": {
  "kernelspec": {
   "display_name": "Python 3 (ipykernel)",
   "language": "python",
   "name": "python3"
  },
  "language_info": {
   "codemirror_mode": {
    "name": "ipython",
    "version": 3
   },
   "file_extension": ".py",
   "mimetype": "text/x-python",
   "name": "python",
   "nbconvert_exporter": "python",
   "pygments_lexer": "ipython3",
   "version": "3.9.18"
  }
 },
 "nbformat": 4,
 "nbformat_minor": 5
}
