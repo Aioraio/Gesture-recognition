{
 "cells": [
  {
   "cell_type": "code",
   "execution_count": 1,
   "id": "4faa80dc",
   "metadata": {},
   "outputs": [],
   "source": [
    "import cv2\n",
    "import mediapipe as mp"
   ]
  },
  {
   "cell_type": "code",
   "execution_count": 2,
   "id": "9b9c599e",
   "metadata": {},
   "outputs": [],
   "source": [
    "hand_detector = mp.solutions.hands.Hands()"
   ]
  },
  {
   "cell_type": "code",
   "execution_count": 3,
   "id": "3339a9cd",
   "metadata": {},
   "outputs": [],
   "source": [
    "camera = cv2.VideoCapture(0)"
   ]
  },
  {
   "cell_type": "code",
   "execution_count": 4,
   "id": "a24681d7",
   "metadata": {},
   "outputs": [],
   "source": [
    "while True:\n",
    "    success, img = camera.read()\n",
    "    if success:\n",
    "        img_rgb = cv2.cvtColor(img, cv2.COLOR_BGR2RGB)\n",
    "        result = hand_detector.process(img_rgb)\n",
    "        if result.multi_hand_landmarks:\n",
    "            for handlms in result.multi_hand_landmarks:\n",
    "                mp.solutions.drawing_utils.draw_landmarks(img, handlms, mp.solutions.hands.HAND_CONNECTIONS)\n",
    "        \n",
    "        cv2.imshow('Video', img)\n",
    "    k = cv2.waitKey(1)\n",
    "    if k == ord('q'):\n",
    "        break\n",
    "camera.release()\n",
    "cv2.destroyAllWindows()"
   ]
  },
  {
   "cell_type": "code",
   "execution_count": null,
   "id": "689da84e",
   "metadata": {},
   "outputs": [],
   "source": []
  }
 ],
 "metadata": {
  "kernelspec": {
   "display_name": "Python 3 (ipykernel)",
   "language": "python",
   "name": "python3"
  },
  "language_info": {
   "codemirror_mode": {
    "name": "ipython",
    "version": 3
   },
   "file_extension": ".py",
   "mimetype": "text/x-python",
   "name": "python",
   "nbconvert_exporter": "python",
   "pygments_lexer": "ipython3",
   "version": "3.9.18"
  }
 },
 "nbformat": 4,
 "nbformat_minor": 5
}
