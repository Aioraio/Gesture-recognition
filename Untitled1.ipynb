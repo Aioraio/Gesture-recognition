{
 "cells": [
  {
   "cell_type": "code",
   "execution_count": 2,
   "id": "99ebeba3",
   "metadata": {},
   "outputs": [],
   "source": [
    "import time\n",
    "import pyautogui as pag\n",
    "import cv2"
   ]
  },
  {
   "cell_type": "code",
   "execution_count": null,
   "id": "d01365d7",
   "metadata": {},
   "outputs": [],
   "source": []
  },
  {
   "cell_type": "code",
   "execution_count": 18,
   "id": "327780ea",
   "metadata": {
    "scrolled": true
   },
   "outputs": [],
   "source": [
    "screenWidth, screenHeight = pag.size()  # 获取屏幕的尺寸\n",
    "x, y = pag.position()  # 返回鼠标的坐标\n"
   ]
  },
  {
   "cell_type": "code",
   "execution_count": 12,
   "id": "62791142",
   "metadata": {},
   "outputs": [],
   "source": [
    "# 移动鼠标到(100, 100)位置\n",
    "pag.moveTo(800, 70, duration=0.5)\n",
    "\n",
    "# 点击鼠标左键\n",
    "pag.click()\n",
    "\n",
    "# 等待1秒\n",
    "time.sleep(1)\n",
    "\n",
    "# 模拟键盘输入\n",
    "pag.typewrite(\"Hello, PyAutoGUI!\")\n",
    "\n",
    "# # 截屏保存\n",
    "# pyautogui.screenshot(\"screenshot.png\")"
   ]
  },
  {
   "cell_type": "code",
   "execution_count": 15,
   "id": "1b0cfaf5",
   "metadata": {},
   "outputs": [],
   "source": [
    "pTime = 0\n",
    "def Frame(pTime):\n",
    "    cTime = time.time()\n",
    "    fps = 1 / (cTime - pTime)\n",
    "    pTime = cTime\n",
    "    cv2.putText(img, str(int(fps)), (10, 70), cv2.FONT_HERSHEY_PLAIN, 3, (255, 255, 255), 2)\n",
    "    return pTime"
   ]
  },
  {
   "cell_type": "code",
   "execution_count": 20,
   "id": "4e4c63d0",
   "metadata": {},
   "outputs": [
    {
     "name": "stdout",
     "output_type": "stream",
     "text": [
      "480\n",
      "640\n",
      "3\n"
     ]
    }
   ],
   "source": [
    "camera = cv2.VideoCapture(0)\n",
    "\n",
    "while True:\n",
    "    success, img = camera.read()\n",
    "    h, w, c = img.shape\n",
    "    if success:\n",
    "        img = cv2.flip(img,1) # 翻转\n",
    "        \n",
    "        pTime = Frame(pTime)\n",
    "        cv2.imshow('Video', img)\n",
    "                        \n",
    "    k = cv2.waitKey(1)\n",
    "    if k == ord('q'):\n",
    "        break\n",
    "\n",
    "\n",
    "\n",
    "camera.release()\n",
    "cv2.destroyAllWindows()\n",
    "\n",
    "print(h)\n",
    "print(w)\n",
    "print(c)"
   ]
  },
  {
   "cell_type": "code",
   "execution_count": 19,
   "id": "27cccb38",
   "metadata": {},
   "outputs": [
    {
     "data": {
      "text/plain": [
       "Size(width=1920, height=1080)"
      ]
     },
     "execution_count": 19,
     "metadata": {},
     "output_type": "execute_result"
    }
   ],
   "source": [
    "pag.size()"
   ]
  },
  {
   "cell_type": "code",
   "execution_count": 2,
   "id": "3a09fe44",
   "metadata": {},
   "outputs": [],
   "source": [
    "pag.moveTo(800, 70)"
   ]
  },
  {
   "cell_type": "code",
   "execution_count": 12,
   "id": "c1613220",
   "metadata": {},
   "outputs": [
    {
     "name": "stdout",
     "output_type": "stream",
     "text": [
      "end\n"
     ]
    }
   ],
   "source": [
    "for i in range(10,30):\n",
    "    pag.moveTo(800, 20*i)\n",
    "print('end')\n"
   ]
  },
  {
   "cell_type": "code",
   "execution_count": 10,
   "id": "73a287c0",
   "metadata": {},
   "outputs": [],
   "source": [
    "pag.moveTo(800, 70, duration=0.5)"
   ]
  },
  {
   "cell_type": "code",
   "execution_count": 13,
   "id": "d0d649f0",
   "metadata": {},
   "outputs": [
    {
     "data": {
      "text/plain": [
       "Point(x=678, y=825)"
      ]
     },
     "execution_count": 13,
     "metadata": {},
     "output_type": "execute_result"
    }
   ],
   "source": [
    "pag.position()"
   ]
  },
  {
   "cell_type": "code",
   "execution_count": 14,
   "id": "393a2b43",
   "metadata": {},
   "outputs": [
    {
     "data": {
      "text/plain": [
       "682"
      ]
     },
     "execution_count": 14,
     "metadata": {},
     "output_type": "execute_result"
    }
   ],
   "source": [
    "pag.position()[0]"
   ]
  },
  {
   "cell_type": "code",
   "execution_count": 3,
   "id": "d4a4e0f3",
   "metadata": {},
   "outputs": [
    {
     "data": {
      "text/plain": [
       "0"
      ]
     },
     "execution_count": 3,
     "metadata": {},
     "output_type": "execute_result"
    }
   ],
   "source": [
    "cv2.cuda.getCudaEnabledDeviceCount()"
   ]
  },
  {
   "cell_type": "code",
   "execution_count": 3,
   "id": "95ae47f9",
   "metadata": {},
   "outputs": [
    {
     "name": "stdout",
     "output_type": "stream",
     "text": [
      "CUDA is not available. Please make sure CUDA drivers are installed.\n"
     ]
    }
   ],
   "source": [
    "if not cv2.cuda.getCudaEnabledDeviceCount():\n",
    "    print(\"CUDA is not available. Please make sure CUDA drivers are installed.\")\n",
    "    exit()"
   ]
  },
  {
   "cell_type": "code",
   "execution_count": 4,
   "id": "9fea09f4",
   "metadata": {},
   "outputs": [
    {
     "name": "stdout",
     "output_type": "stream",
     "text": [
      "# packages in environment at E:\\Anaconda3\\envs\\Gr:\n",
      "#\n",
      "# Name                    Version                   Build  Channel\n",
      "absl-py                   2.1.0                    pypi_0    pypi\n",
      "aiofiles                  22.1.0           py39haa95532_0    defaults\n",
      "aiosqlite                 0.18.0           py39haa95532_0    defaults\n",
      "anyio                     3.5.0            py39haa95532_0    defaults\n",
      "argon2-cffi               21.3.0             pyhd3eb1b0_0    defaults\n",
      "argon2-cffi-bindings      21.2.0           py39h2bbff1b_0    defaults\n",
      "asttokens                 2.0.5              pyhd3eb1b0_0    defaults\n",
      "attrs                     23.1.0           py39haa95532_0    defaults\n",
      "audioread                 3.0.0                    pypi_0    pypi\n",
      "babel                     2.11.0           py39haa95532_0    defaults\n",
      "backcall                  0.2.0              pyhd3eb1b0_0    defaults\n",
      "beautifulsoup4            4.12.2           py39haa95532_0    defaults\n",
      "blas                      1.0                         mkl    defaults\n",
      "bleach                    4.1.0              pyhd3eb1b0_0    defaults\n",
      "boost-cpp                 1.82.0               h59b6b97_2    defaults\n",
      "brotli                    1.0.9                h2bbff1b_7    defaults\n",
      "brotli-bin                1.0.9                h2bbff1b_7    defaults\n",
      "brotlipy                  0.7.0           py39h2bbff1b_1003    defaults\n",
      "ca-certificates           2023.12.12           haa95532_0    defaults\n",
      "cairo                     1.16.0               haedb8bc_5    defaults\n",
      "certifi                   2023.11.17       py39haa95532_0    defaults\n",
      "cffi                      1.15.1           py39h2bbff1b_3    defaults\n",
      "charset-normalizer        2.0.4              pyhd3eb1b0_0    defaults\n",
      "colorama                  0.4.6            py39haa95532_0    defaults\n",
      "comm                      0.1.2            py39haa95532_0    defaults\n",
      "contourpy                 1.0.5            py39h59b6b97_0    defaults\n",
      "cryptography              41.0.3           py39h89fc84f_0    defaults\n",
      "cycler                    0.11.0             pyhd3eb1b0_0    defaults\n",
      "debugpy                   1.6.7            py39hd77b12b_0    defaults\n",
      "decorator                 5.1.1              pyhd3eb1b0_0    defaults\n",
      "defusedxml                0.7.1              pyhd3eb1b0_0    defaults\n",
      "easyprocess               1.1                pyhd8ed1ab_0    conda-forge\n",
      "eigen                     3.4.0                h59b6b97_0    defaults\n",
      "entrypoint2               1.1                pyhd8ed1ab_0    conda-forge\n",
      "entrypoints               0.4              py39haa95532_0    defaults\n",
      "exceptiongroup            1.0.4            py39haa95532_0    defaults\n",
      "executing                 0.8.3              pyhd3eb1b0_0    defaults\n",
      "expat                     2.5.0                hd77b12b_0    defaults\n",
      "ffmpeg                    4.2.2                he774522_0    defaults\n",
      "flatbuffers               23.5.26                  pypi_0    pypi\n",
      "font-ttf-dejavu-sans-mono 2.37                 hd3eb1b0_0    defaults\n",
      "font-ttf-inconsolata      2.001                hcb22688_0    defaults\n",
      "font-ttf-source-code-pro  2.030                hd3eb1b0_0    defaults\n",
      "font-ttf-ubuntu           0.83                 h8b1ccd4_0    defaults\n",
      "fontconfig                2.14.1               h9c4af85_2    defaults\n",
      "fonts-anaconda            1                    h8fa9717_0    defaults\n",
      "fonts-conda-ecosystem     1                    hd3eb1b0_0    defaults\n",
      "fonttools                 4.25.0             pyhd3eb1b0_0    defaults\n",
      "freetype                  2.12.1               ha860e81_0    defaults\n",
      "fribidi                   1.0.10               h62dcd97_0    defaults\n",
      "getopt-win32              0.1                  h2bbff1b_0    defaults\n",
      "giflib                    5.2.1                h8cc25b3_3    defaults\n",
      "glib                      2.69.1               h5dc1a3c_2    defaults\n",
      "graphite2                 1.3.14               hd77b12b_1    defaults\n",
      "graphviz                  2.50.0               h7eca76f_1    defaults\n",
      "gst-plugins-base          1.18.5               h9e645db_0    defaults\n",
      "gstreamer                 1.18.5               hd78058f_0    defaults\n",
      "gts                       0.7.6                h63ab5a1_3    defaults\n",
      "harfbuzz                  4.3.0                hb646838_1    defaults\n",
      "hdf5                      1.12.1               h51c971a_3    defaults\n",
      "icc_rt                    2022.1.0             h6049295_2    defaults\n",
      "icu                       58.2                 ha925a31_3    defaults\n",
      "idna                      3.4              py39haa95532_0    defaults\n",
      "importlib-metadata        6.0.0            py39haa95532_0    defaults\n",
      "importlib_metadata        6.0.0                hd3eb1b0_0    defaults\n",
      "importlib_resources       5.2.0              pyhd3eb1b0_1    defaults\n",
      "intel-openmp              2023.1.0         h59b6b97_46319    defaults\n",
      "ipykernel                 6.25.0           py39h9909e9c_0    defaults\n",
      "ipython                   8.15.0           py39haa95532_0    defaults\n",
      "ipython_genutils          0.2.0              pyhd3eb1b0_1    defaults\n",
      "ipywidgets                8.0.4            py39haa95532_0    defaults\n",
      "jedi                      0.18.1           py39haa95532_1    defaults\n",
      "jeepney                   0.7.1              pyhd3eb1b0_0    defaults\n",
      "jinja2                    3.1.2            py39haa95532_0    defaults\n",
      "joblib                    1.3.2                    pypi_0    pypi\n",
      "jpeg                      9e                   h2bbff1b_1    defaults\n",
      "json5                     0.9.6              pyhd3eb1b0_0    defaults\n",
      "jsonschema                4.17.3           py39haa95532_0    defaults\n",
      "jupyter                   1.0.0            py39haa95532_8    defaults\n",
      "jupyter_client            7.4.9            py39haa95532_0    defaults\n",
      "jupyter_console           6.6.3            py39haa95532_0    defaults\n",
      "jupyter_core              5.3.0            py39haa95532_0    defaults\n",
      "jupyter_events            0.6.3            py39haa95532_0    defaults\n",
      "jupyter_server            1.23.4           py39haa95532_0    defaults\n",
      "jupyter_server_fileid     0.9.0            py39haa95532_0    defaults\n",
      "jupyter_server_ydoc       0.8.0            py39haa95532_1    defaults\n",
      "jupyter_ydoc              0.2.4            py39haa95532_0    defaults\n",
      "jupyterlab                3.6.3            py39haa95532_0    defaults\n",
      "jupyterlab_pygments       0.1.2                      py_0    defaults\n",
      "jupyterlab_server         2.22.0           py39haa95532_0    defaults\n",
      "jupyterlab_widgets        3.0.5            py39haa95532_0    defaults\n",
      "kiwisolver                1.4.4            py39hd77b12b_0    defaults\n",
      "krb5                      1.20.1               h5b6d351_0    defaults\n",
      "lazy-loader               0.3                      pypi_0    pypi\n",
      "lcms2                     2.12                 h83e58a3_0    defaults\n",
      "lerc                      3.0                  hd77b12b_0    defaults\n",
      "libboost                  1.82.0               h3399ecb_2    defaults\n",
      "libbrotlicommon           1.0.9                h2bbff1b_7    defaults\n",
      "libbrotlidec              1.0.9                h2bbff1b_7    defaults\n",
      "libbrotlienc              1.0.9                h2bbff1b_7    defaults\n",
      "libclang                  14.0.6          default_hb5a9fac_1    defaults\n",
      "libclang13                14.0.6          default_h8e68704_1    defaults\n",
      "libcurl                   8.5.0                h86230a5_0    defaults\n",
      "libdeflate                1.17                 h2bbff1b_0    defaults\n",
      "libffi                    3.4.4                hd77b12b_0    defaults\n",
      "libgd                     2.3.3                ha43c60c_1    defaults\n",
      "libiconv                  1.16                 h2bbff1b_2    defaults\n",
      "libogg                    1.3.5                h2bbff1b_1    defaults\n",
      "libpng                    1.6.39               h8cc25b3_0    defaults\n",
      "libpq                     12.15                h906ac69_1    defaults\n",
      "libprotobuf               3.20.3               h23ce68f_0    defaults\n",
      "librosa                   0.10.1                   pypi_0    pypi\n",
      "libsodium                 1.0.18               h62dcd97_0    defaults\n",
      "libssh2                   1.10.0               he2ea4bf_2    defaults\n",
      "libtiff                   4.5.1                hd77b12b_0    defaults\n",
      "libvorbis                 1.3.7                he774522_0    defaults\n",
      "libwebp                   1.3.2                hbc33d0d_0    defaults\n",
      "libwebp-base              1.3.2                h2bbff1b_0    defaults\n",
      "libxml2                   2.10.4               h0ad7f3c_1    defaults\n",
      "libxslt                   1.1.37               h2bbff1b_1    defaults\n",
      "llvmlite                  0.41.0                   pypi_0    pypi\n",
      "lxml                      4.9.3            py39h09808a7_0    defaults\n",
      "lz4-c                     1.9.4                h2bbff1b_0    defaults\n",
      "markupsafe                2.1.1            py39h2bbff1b_0    defaults\n",
      "matplotlib                3.7.2            py39haa95532_0    defaults\n",
      "matplotlib-base           3.7.2            py39h4ed8f06_0    defaults\n",
      "matplotlib-inline         0.1.6            py39haa95532_0    defaults\n",
      "mediapipe                 0.10.9                   pypi_0    pypi\n",
      "mistune                   0.8.4           py39h2bbff1b_1000    defaults\n",
      "mkl                       2023.1.0         h6b88ed4_46357    defaults\n",
      "mkl-service               2.4.0            py39h2bbff1b_1    defaults\n",
      "mkl_fft                   1.3.8            py39h2bbff1b_0    defaults\n",
      "mkl_random                1.2.4            py39h59b6b97_0    defaults\n",
      "mouseinfo                 0.1.3              pyhd8ed1ab_0    conda-forge\n",
      "msgpack                   1.0.6                    pypi_0    pypi\n",
      "munkres                   1.1.4                      py_0    defaults\n",
      "nbclassic                 0.5.5            py39haa95532_0    defaults\n",
      "nbclient                  0.5.13           py39haa95532_0    defaults\n",
      "nbconvert                 6.5.4            py39haa95532_0    defaults\n",
      "nbformat                  5.9.2            py39haa95532_0    defaults\n",
      "nest-asyncio              1.5.6            py39haa95532_0    defaults\n",
      "notebook                  6.5.4            py39haa95532_1    defaults\n",
      "notebook-shim             0.2.2            py39haa95532_0    defaults\n",
      "numba                     0.58.0                   pypi_0    pypi\n",
      "numpy                     1.25.2           py39h055cbcc_0    defaults\n",
      "numpy-base                1.25.2           py39h65a83cf_0    defaults\n",
      "objgraph                  3.5.0              pyh9f0ad1d_0    conda-forge\n",
      "opencv                    4.6.0            py39ha36de5b_5    defaults\n",
      "opencv-contrib-python     4.9.0.80                 pypi_0    pypi\n",
      "opencv-python             4.9.0.80                 pypi_0    pypi\n",
      "openjpeg                  2.4.0                h4fc8c34_0    defaults\n",
      "openssl                   3.0.13               h2bbff1b_0    defaults\n",
      "packaging                 23.1             py39haa95532_0    defaults\n",
      "pandocfilters             1.5.0              pyhd3eb1b0_0    defaults\n",
      "pango                     1.50.7               h78c2152_0    defaults\n",
      "parso                     0.8.3              pyhd3eb1b0_0    defaults\n",
      "pcre                      8.45                 hd77b12b_0    defaults\n",
      "pickleshare               0.7.5           pyhd3eb1b0_1003    defaults\n",
      "pillow                    9.4.0            py39hd77b12b_1    defaults\n",
      "pip                       23.2.1           py39haa95532_0    defaults\n",
      "pixman                    0.40.0               h2bbff1b_1    defaults\n",
      "platformdirs              3.10.0           py39haa95532_0    defaults\n",
      "ply                       3.11             py39haa95532_0    defaults\n",
      "pooch                     1.7.0                    pypi_0    pypi\n",
      "poppler                   22.12.0              h0bf3bde_3    defaults\n",
      "poppler-data              0.4.11               haa95532_1    defaults\n",
      "prometheus_client         0.14.1           py39haa95532_0    defaults\n",
      "prompt-toolkit            3.0.36           py39haa95532_0    defaults\n",
      "prompt_toolkit            3.0.36               hd3eb1b0_0    defaults\n",
      "protobuf                  3.20.3                   pypi_0    pypi\n",
      "psutil                    5.9.0            py39h2bbff1b_0    defaults\n",
      "pure_eval                 0.2.2              pyhd3eb1b0_0    defaults\n",
      "pyautogui                 0.9.54           py39hcbf5309_2    conda-forge\n",
      "pycparser                 2.21               pyhd3eb1b0_0    defaults\n",
      "pygetwindow               0.0.9            py39hcbf5309_2    conda-forge\n",
      "pygments                  2.15.1           py39haa95532_1    defaults\n",
      "pymsgbox                  1.0.9              pyhd8ed1ab_1    conda-forge\n",
      "pyopenssl                 23.2.0           py39haa95532_0    defaults\n",
      "pyparsing                 3.0.9            py39haa95532_0    defaults\n",
      "pyperclip                 1.8.2              pyhd8ed1ab_2    conda-forge\n",
      "pyqt                      5.15.7           py39hd77b12b_0    defaults\n",
      "pyqt5-sip                 12.11.0          py39hd77b12b_0    defaults\n",
      "pyrect                    0.2.0              pyhd8ed1ab_0    conda-forge\n",
      "pyrsistent                0.18.0           py39h196d8e1_0    defaults\n",
      "pyscreenshot              3.1                pyhd8ed1ab_0    conda-forge\n",
      "pyscreeze                 0.1.30             pyhd8ed1ab_0    conda-forge\n",
      "pysocks                   1.7.1            py39haa95532_0    defaults\n",
      "python                    3.9.18               h1aa4202_0    defaults\n",
      "python-dateutil           2.8.2              pyhd3eb1b0_0    defaults\n",
      "python-fastjsonschema     2.16.2           py39haa95532_0    defaults\n",
      "python-graphviz           0.20.1           py39haa95532_0    defaults\n",
      "python-json-logger        2.0.7            py39haa95532_0    defaults\n",
      "python-mss                9.0.1              pyhd8ed1ab_0    conda-forge\n",
      "python-xlib               0.33               pyhd8ed1ab_0    conda-forge\n",
      "python_abi                3.9                      2_cp39    conda-forge\n",
      "pytweening                1.0.7              pyhd8ed1ab_0    conda-forge\n",
      "pytz                      2023.3.post1     py39haa95532_0    defaults\n",
      "pywin32                   305              py39h2bbff1b_0    defaults\n",
      "pywinpty                  2.0.10           py39h5da7b33_0    defaults\n",
      "pyyaml                    6.0              py39h2bbff1b_1    defaults\n",
      "pyzmq                     23.2.0           py39hd77b12b_0    defaults\n",
      "qt-main                   5.15.2               h879a1e9_9    defaults\n",
      "qt-webengine              5.15.9               h5bd16bc_7    defaults\n",
      "qtconsole                 5.4.2            py39haa95532_0    defaults\n",
      "qtpy                      2.2.0            py39haa95532_0    defaults\n",
      "qtwebkit                  5.212                h2bbfb41_5    defaults\n",
      "requests                  2.31.0           py39haa95532_0    defaults\n",
      "rfc3339-validator         0.1.4            py39haa95532_0    defaults\n",
      "rfc3986-validator         0.1.1            py39haa95532_0    defaults\n",
      "rubicon-objc              0.4.7              pyhd8ed1ab_0    conda-forge\n",
      "scikit-learn              1.3.1                    pypi_0    pypi\n",
      "scipy                     1.11.2                   pypi_0    pypi\n",
      "send2trash                1.8.0              pyhd3eb1b0_1    defaults\n",
      "setuptools                68.0.0           py39haa95532_0    defaults\n",
      "sip                       6.6.2            py39hd77b12b_0    defaults\n",
      "six                       1.16.0             pyhd3eb1b0_1    defaults\n",
      "sniffio                   1.2.0            py39haa95532_1    defaults\n",
      "sounddevice               0.4.6                    pypi_0    pypi\n",
      "soundfile                 0.12.1                   pypi_0    pypi\n",
      "soupsieve                 2.4              py39haa95532_0    defaults\n",
      "soxr                      0.3.6                    pypi_0    pypi\n",
      "sqlite                    3.41.2               h2bbff1b_0    defaults\n",
      "stack_data                0.2.0              pyhd3eb1b0_0    defaults\n",
      "tbb                       2021.8.0             h59b6b97_0    defaults\n",
      "terminado                 0.17.1           py39haa95532_0    defaults\n",
      "threadpoolctl             3.2.0                    pypi_0    pypi\n",
      "tinycss2                  1.2.1            py39haa95532_0    defaults\n",
      "tk                        8.6.12               h2bbff1b_0    defaults\n",
      "toml                      0.10.2             pyhd3eb1b0_0    defaults\n",
      "tomli                     2.0.1            py39haa95532_0    defaults\n",
      "tornado                   6.3.2            py39h2bbff1b_0    defaults\n",
      "traitlets                 5.7.1            py39haa95532_0    defaults\n",
      "typing-extensions         4.7.1            py39haa95532_0    defaults\n",
      "typing_extensions         4.7.1            py39haa95532_0    defaults\n",
      "tzdata                    2023c                h04d1e81_0    defaults\n",
      "urllib3                   1.26.16          py39haa95532_0    defaults\n",
      "vc                        14.2                 h21ff451_1    defaults\n",
      "vs2015_runtime            14.27.29016          h5e58377_2    defaults\n",
      "wcwidth                   0.2.5              pyhd3eb1b0_0    defaults\n",
      "webencodings              0.5.1            py39haa95532_1    defaults\n",
      "websocket-client          0.58.0           py39haa95532_4    defaults\n",
      "wheel                     0.38.4           py39haa95532_0    defaults\n",
      "widgetsnbextension        4.0.5            py39haa95532_0    defaults\n",
      "win_inet_pton             1.1.0            py39haa95532_0    defaults\n",
      "winpty                    0.4.3                         4    defaults\n",
      "xz                        5.4.2                h8cc25b3_0    defaults\n",
      "y-py                      0.5.9            py39hb6bf4ef_0    defaults\n",
      "yaml                      0.2.5                he774522_0    defaults\n",
      "ypy-websocket             0.8.2            py39haa95532_0    defaults\n",
      "zeromq                    4.3.4                hd77b12b_0    defaults\n",
      "zipp                      3.11.0           py39haa95532_0    defaults\n",
      "zlib                      1.2.13               h8cc25b3_0    defaults\n",
      "zstd                      1.5.5                hd43e919_0    defaults\n",
      "\n",
      "Note: you may need to restart the kernel to use updated packages.\n"
     ]
    }
   ],
   "source": [
    "conda list"
   ]
  },
  {
   "cell_type": "code",
   "execution_count": 5,
   "id": "645c658c",
   "metadata": {},
   "outputs": [
    {
     "name": "stdout",
     "output_type": "stream",
     "text": [
      "Package               VersionNote: you may need to restart the kernel to use updated packages.\n",
      "\n",
      "--------------------- ------------\n",
      "absl-py               2.1.0\n",
      "aiofiles              22.1.0\n",
      "aiosqlite             0.18.0\n",
      "anyio                 3.5.0\n",
      "argon2-cffi           21.3.0\n",
      "argon2-cffi-bindings  21.2.0\n",
      "asttokens             2.0.5\n",
      "attrs                 23.1.0\n",
      "audioread             3.0.0\n",
      "Babel                 2.11.0\n",
      "backcall              0.2.0\n",
      "beautifulsoup4        4.12.2\n",
      "bleach                4.1.0\n",
      "brotlipy              0.7.0\n",
      "certifi               2023.11.17\n",
      "cffi                  1.15.1\n",
      "charset-normalizer    2.0.4\n",
      "colorama              0.4.6\n",
      "comm                  0.1.2\n",
      "contourpy             1.0.5\n",
      "cryptography          41.0.3\n",
      "cycler                0.11.0\n",
      "debugpy               1.6.7\n",
      "decorator             5.1.1\n",
      "defusedxml            0.7.1\n",
      "EasyProcess           1.1\n",
      "entrypoint2           1.1\n",
      "entrypoints           0.4\n",
      "exceptiongroup        1.0.4\n",
      "executing             0.8.3\n",
      "fastjsonschema        2.16.2\n",
      "flatbuffers           23.5.26\n",
      "fonttools             4.25.0\n",
      "graphviz              0.20.1\n",
      "idna                  3.4\n",
      "importlib-metadata    6.0.0\n",
      "importlib-resources   5.2.0\n",
      "ipykernel             6.25.0\n",
      "ipython               8.15.0\n",
      "ipython-genutils      0.2.0\n",
      "ipywidgets            8.0.4\n",
      "jedi                  0.18.1\n",
      "jeepney               0.7.1\n",
      "Jinja2                3.1.2\n",
      "joblib                1.3.2\n",
      "json5                 0.9.6\n",
      "jsonschema            4.17.3\n",
      "jupyter               1.0.0\n",
      "jupyter_client        7.4.9\n",
      "jupyter-console       6.6.3\n",
      "jupyter_core          5.3.0\n",
      "jupyter-events        0.6.3\n",
      "jupyter-server        1.23.4\n",
      "jupyter_server_fileid 0.9.0\n",
      "jupyter_server_ydoc   0.8.0\n",
      "jupyter-ydoc          0.2.4\n",
      "jupyterlab            3.6.3\n",
      "jupyterlab-pygments   0.1.2\n",
      "jupyterlab_server     2.22.0\n",
      "jupyterlab-widgets    3.0.5\n",
      "kiwisolver            1.4.4\n",
      "lazy_loader           0.3\n",
      "librosa               0.10.1\n",
      "llvmlite              0.41.0\n",
      "lxml                  4.9.3\n",
      "MarkupSafe            2.1.1\n",
      "matplotlib            3.7.2\n",
      "matplotlib-inline     0.1.6\n",
      "mediapipe             0.10.9\n",
      "mistune               0.8.4\n",
      "mkl-fft               1.3.8\n",
      "mkl-random            1.2.4\n",
      "mkl-service           2.4.0\n",
      "MouseInfo             0.1.3\n",
      "msgpack               1.0.6\n",
      "mss                   9.0.1\n",
      "munkres               1.1.4\n",
      "nbclassic             0.5.5\n",
      "nbclient              0.5.13\n",
      "nbconvert             6.5.4\n",
      "nbformat              5.9.2\n",
      "nest-asyncio          1.5.6\n",
      "notebook              6.5.4\n",
      "notebook_shim         0.2.2\n",
      "numba                 0.58.0\n",
      "numpy                 1.25.2\n",
      "objgraph              3.5.0\n",
      "opencv-contrib-python 4.9.0.80\n",
      "opencv-python         4.9.0.80\n",
      "packaging             23.1\n",
      "pandocfilters         1.5.0\n",
      "parso                 0.8.3\n",
      "pickleshare           0.7.5\n",
      "Pillow                9.4.0\n",
      "pip                   23.2.1\n",
      "platformdirs          3.10.0\n",
      "ply                   3.11\n",
      "pooch                 1.7.0\n",
      "prometheus-client     0.14.1\n",
      "prompt-toolkit        3.0.36\n",
      "protobuf              3.20.3\n",
      "psutil                5.9.0\n",
      "pure-eval             0.2.2\n",
      "PyAutoGUI             0.9.54\n",
      "pycparser             2.21\n",
      "PyGetWindow           0.0.9\n",
      "Pygments              2.15.1\n",
      "PyMsgBox              1.0.9\n",
      "pyOpenSSL             23.2.0\n",
      "pyparsing             3.0.9\n",
      "pyperclip             1.8.2\n",
      "PyQt5                 5.15.7\n",
      "PyQt5-sip             12.11.0\n",
      "PyRect                0.2.0\n",
      "pyrsistent            0.18.0\n",
      "pyscreenshot          3.1\n",
      "PyScreeze             0.1.30\n",
      "PySocks               1.7.1\n",
      "python-dateutil       2.8.2\n",
      "python-json-logger    2.0.7\n",
      "python-xlib           0.33\n",
      "pytweening            1.0.7\n",
      "pytz                  2023.3.post1\n",
      "pywin32               305.1\n",
      "pywinpty              2.0.10\n",
      "PyYAML                6.0\n",
      "pyzmq                 23.2.0\n",
      "qtconsole             5.4.2\n",
      "QtPy                  2.2.0\n",
      "requests              2.31.0\n",
      "rfc3339-validator     0.1.4\n",
      "rfc3986-validator     0.1.1\n",
      "rubicon-objc          0.4.7\n",
      "scikit-learn          1.3.1\n",
      "scipy                 1.11.2\n",
      "Send2Trash            1.8.0\n",
      "setuptools            68.0.0\n",
      "sip                   6.6.2\n",
      "six                   1.16.0\n",
      "sniffio               1.2.0\n",
      "sounddevice           0.4.6\n",
      "soundfile             0.12.1\n",
      "soupsieve             2.4\n",
      "soxr                  0.3.6\n",
      "stack-data            0.2.0\n",
      "terminado             0.17.1\n",
      "threadpoolctl         3.2.0\n",
      "tinycss2              1.2.1\n",
      "toml                  0.10.2\n",
      "tomli                 2.0.1\n",
      "tornado               6.3.2\n",
      "traitlets             5.7.1\n",
      "typing_extensions     4.7.1\n",
      "urllib3               1.26.16\n",
      "wcwidth               0.2.5\n",
      "webencodings          0.5.1\n",
      "websocket-client      0.58.0\n",
      "wheel                 0.38.4\n",
      "widgetsnbextension    4.0.5\n",
      "win-inet-pton         1.1.0\n",
      "y-py                  0.5.9\n",
      "ypy-websocket         0.8.2\n",
      "zipp                  3.11.0\n"
     ]
    }
   ],
   "source": [
    "pip list"
   ]
  },
  {
   "cell_type": "code",
   "execution_count": 6,
   "id": "ae1ddbcb",
   "metadata": {},
   "outputs": [
    {
     "name": "stdout",
     "output_type": "stream",
     "text": [
      "Note: you may need to restart the kernel to use updated packages.\n"
     ]
    },
    {
     "name": "stderr",
     "output_type": "stream",
     "text": [
      "ERROR: Could not find a version that satisfies the requirement opencv-python-cuda (from versions: none)\n",
      "ERROR: No matching distribution found for opencv-python-cuda\n"
     ]
    }
   ],
   "source": [
    "pip install opencv-python-cuda"
   ]
  },
  {
   "cell_type": "code",
   "execution_count": 7,
   "id": "9ff403db",
   "metadata": {},
   "outputs": [
    {
     "data": {
      "text/plain": [
       "0"
      ]
     },
     "execution_count": 7,
     "metadata": {},
     "output_type": "execute_result"
    }
   ],
   "source": [
    "cv2.cuda.getCudaEnabledDeviceCount()"
   ]
  },
  {
   "cell_type": "code",
   "execution_count": 8,
   "id": "09772656",
   "metadata": {},
   "outputs": [],
   "source": [
    "import cv2.cuda"
   ]
  },
  {
   "cell_type": "code",
   "execution_count": 9,
   "id": "4299c46c",
   "metadata": {},
   "outputs": [
    {
     "data": {
      "text/plain": [
       "0"
      ]
     },
     "execution_count": 9,
     "metadata": {},
     "output_type": "execute_result"
    }
   ],
   "source": [
    "cv2.cuda.getCudaEnabledDeviceCount()"
   ]
  },
  {
   "cell_type": "code",
   "execution_count": 1,
   "id": "f7cb048e",
   "metadata": {},
   "outputs": [
    {
     "data": {
      "text/plain": [
       "False"
      ]
     },
     "execution_count": 1,
     "metadata": {},
     "output_type": "execute_result"
    }
   ],
   "source": [
    "a = True\n",
    "not a"
   ]
  },
  {
   "cell_type": "code",
   "execution_count": 2,
   "id": "8c69b7f7",
   "metadata": {},
   "outputs": [],
   "source": [
    "import pyautogui as pag\n",
    "width,height=pag.size()  "
   ]
  },
  {
   "cell_type": "code",
   "execution_count": 3,
   "id": "39ee451e",
   "metadata": {
    "scrolled": true
   },
   "outputs": [
    {
     "data": {
      "text/plain": [
       "(1920, 1080)"
      ]
     },
     "execution_count": 3,
     "metadata": {},
     "output_type": "execute_result"
    }
   ],
   "source": [
    "width,height"
   ]
  },
  {
   "cell_type": "code",
   "execution_count": 5,
   "id": "fdf1ad19",
   "metadata": {},
   "outputs": [],
   "source": [
    "import json"
   ]
  },
  {
   "cell_type": "code",
   "execution_count": 7,
   "id": "17d960e5",
   "metadata": {},
   "outputs": [],
   "source": [
    "obj = json.load(open(\"./test.json\"))"
   ]
  },
  {
   "cell_type": "code",
   "execution_count": 8,
   "id": "284e4d5c",
   "metadata": {},
   "outputs": [
    {
     "data": {
      "text/plain": [
       "{'animals': {'dog': [{'name': 'Rufus', 'age': 15},\n",
       "   {'name': 'Marty', 'age': None}]}}"
      ]
     },
     "execution_count": 8,
     "metadata": {},
     "output_type": "execute_result"
    }
   ],
   "source": [
    "obj"
   ]
  },
  {
   "cell_type": "code",
   "execution_count": 16,
   "id": "230c1e0d",
   "metadata": {},
   "outputs": [
    {
     "data": {
      "text/plain": [
       "'Rufus'"
      ]
     },
     "execution_count": 16,
     "metadata": {},
     "output_type": "execute_result"
    }
   ],
   "source": [
    "data = obj.get(\"animals\").get(\"dog\")\n",
    "data[0].get(\"name\")"
   ]
  },
  {
   "cell_type": "code",
   "execution_count": 15,
   "id": "3c073c2b",
   "metadata": {},
   "outputs": [
    {
     "name": "stdout",
     "output_type": "stream",
     "text": [
      "['Rufus', 'Marty']\n"
     ]
    }
   ],
   "source": [
    "result1 = []\n",
    "for i in data:\n",
    "    result1.append(i.get(\"name\"))\n",
    "print(result1)"
   ]
  },
  {
   "cell_type": "code",
   "execution_count": 34,
   "id": "01760dde",
   "metadata": {},
   "outputs": [],
   "source": [
    "tinydict = {0: 'a', 'b': 2}"
   ]
  },
  {
   "cell_type": "code",
   "execution_count": 32,
   "id": "8eeeb108",
   "metadata": {},
   "outputs": [
    {
     "data": {
      "text/plain": [
       "True"
      ]
     },
     "execution_count": 32,
     "metadata": {},
     "output_type": "execute_result"
    }
   ],
   "source": [
    "tinydict[0]"
   ]
  },
  {
   "cell_type": "code",
   "execution_count": 30,
   "id": "88860b7e",
   "metadata": {},
   "outputs": [
    {
     "data": {
      "text/plain": [
       "'a'"
      ]
     },
     "execution_count": 30,
     "metadata": {},
     "output_type": "execute_result"
    }
   ],
   "source": [
    "i = 0\n",
    "tinydict[i]"
   ]
  },
  {
   "cell_type": "code",
   "execution_count": 38,
   "id": "b5da3c10",
   "metadata": {},
   "outputs": [],
   "source": [
    "Characterdict = {0: 'a', 1:'b',2:'c',3:'d',4:'e',5:'f',6:'g',7:'h',8:'i',9:'j',10:'k',11:'l',12:'m',\n",
    "                 13:'n',14:'o',15:'p',16:'q',17:'r',18:'s',19:'t',20:'u',21:'v',22:'w',23:'x',24:'y',25:'z'}"
   ]
  },
  {
   "cell_type": "code",
   "execution_count": 43,
   "id": "e824a1b8",
   "metadata": {},
   "outputs": [
    {
     "data": {
      "text/plain": [
       "'a'"
      ]
     },
     "execution_count": 43,
     "metadata": {},
     "output_type": "execute_result"
    }
   ],
   "source": [
    "Characterdict[0]"
   ]
  },
  {
   "cell_type": "code",
   "execution_count": null,
   "id": "151c1cef",
   "metadata": {},
   "outputs": [],
   "source": [
    "pTime = 0\n",
    "\n",
    "\n",
    "def Frame(pTime):\n",
    "    cTime = time.time()\n",
    "    fps = 1 / (cTime - pTime)\n",
    "    pTime = cTime\n",
    "    cv2.putText(\n",
    "        img, str(int(fps)), (10, 70), cv2.FONT_HERSHEY_PLAIN, 3, (255, 255, 255), 2\n",
    "    )\n",
    "    return pTime\n",
    "\n"
   ]
  },
  {
   "cell_type": "code",
   "execution_count": 41,
   "id": "97dbc660",
   "metadata": {},
   "outputs": [],
   "source": [
    "strgesture=\"1\""
   ]
  },
  {
   "cell_type": "code",
   "execution_count": 42,
   "id": "5ad9277f",
   "metadata": {},
   "outputs": [
    {
     "data": {
      "text/plain": [
       "1"
      ]
     },
     "execution_count": 42,
     "metadata": {},
     "output_type": "execute_result"
    }
   ],
   "source": [
    "int(strgesture)"
   ]
  },
  {
   "cell_type": "code",
   "execution_count": 1,
   "id": "8e7f4d16",
   "metadata": {},
   "outputs": [],
   "source": [
    "import pyautogui as pag"
   ]
  },
  {
   "cell_type": "code",
   "execution_count": 4,
   "id": "4f1e2704",
   "metadata": {},
   "outputs": [
    {
     "data": {
      "text/plain": [
       "'0.9.54'"
      ]
     },
     "execution_count": 4,
     "metadata": {},
     "output_type": "execute_result"
    }
   ],
   "source": [
    "pag.__version__"
   ]
  },
  {
   "cell_type": "code",
   "execution_count": 2,
   "id": "751760b7",
   "metadata": {},
   "outputs": [
    {
     "ename": "TypeError",
     "evalue": "__init__() missing 1 required positional argument: 'lms'",
     "output_type": "error",
     "traceback": [
      "\u001b[1;31m---------------------------------------------------------------------------\u001b[0m",
      "\u001b[1;31mTypeError\u001b[0m                                 Traceback (most recent call last)",
      "Input \u001b[1;32mIn [2]\u001b[0m, in \u001b[0;36m<cell line: 2>\u001b[1;34m()\u001b[0m\n\u001b[0;32m      1\u001b[0m \u001b[38;5;28;01mfrom\u001b[39;00m \u001b[38;5;21;01mgestureUnits\u001b[39;00m \u001b[38;5;28;01mimport\u001b[39;00m GestureDetector\n\u001b[1;32m----> 2\u001b[0m gestureDetector \u001b[38;5;241m=\u001b[39m \u001b[43mGestureDetector\u001b[49m\u001b[43m(\u001b[49m\u001b[43m)\u001b[49m\n\u001b[0;32m      4\u001b[0m \u001b[38;5;28;01mdef\u001b[39;00m \u001b[38;5;21mG\u001b[39m(lms):\n\u001b[0;32m      5\u001b[0m     gestureDetector\u001b[38;5;241m.\u001b[39mlms \u001b[38;5;241m=\u001b[39m lms\n",
      "\u001b[1;31mTypeError\u001b[0m: __init__() missing 1 required positional argument: 'lms'"
     ]
    }
   ],
   "source": [
    "from gestureUnits import GestureDetector\n",
    "gestureDetector = GestureDetector()\n",
    "\n",
    "def G(lms):\n",
    "    gestureDetector.lms = lms\n",
    "    cv2.putText(\n",
    "        img,\n",
    "        gestureDetector.gestureNum(),\n",
    "        (20, 300),\n",
    "        cv2.FONT_HERSHEY_PLAIN,\n",
    "        3,\n",
    "        (255, 0, 0),\n",
    "        2,\n",
    "    )\n"
   ]
  },
  {
   "cell_type": "code",
   "execution_count": 5,
   "id": "e6559c58",
   "metadata": {},
   "outputs": [
    {
     "data": {
      "text/plain": [
       "array([0.])"
      ]
     },
     "execution_count": 5,
     "metadata": {},
     "output_type": "execute_result"
    }
   ],
   "source": [
    "import numpy as np\n",
    "np.zeros(1)"
   ]
  },
  {
   "cell_type": "code",
   "execution_count": null,
   "id": "0e8f66c8",
   "metadata": {},
   "outputs": [],
   "source": []
  }
 ],
 "metadata": {
  "kernelspec": {
   "display_name": "Python 3 (ipykernel)",
   "language": "python",
   "name": "python3"
  },
  "language_info": {
   "codemirror_mode": {
    "name": "ipython",
    "version": 3
   },
   "file_extension": ".py",
   "mimetype": "text/x-python",
   "name": "python",
   "nbconvert_exporter": "python",
   "pygments_lexer": "ipython3",
   "version": "3.9.18"
  },
  "vscode": {
   "interpreter": {
    "hash": "0aa1abe72719b099b2a2ea827eb2efe3ce8d35b8825fced461cac39b51143419"
   }
  }
 },
 "nbformat": 4,
 "nbformat_minor": 5
}
