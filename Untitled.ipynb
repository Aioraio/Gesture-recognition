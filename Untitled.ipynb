{
 "cells": [
  {
   "cell_type": "code",
   "execution_count": 1,
   "id": "56a23def",
   "metadata": {},
   "outputs": [],
   "source": [
    "import cv2\n",
    "import mediapipe as mp\n",
    "\n",
    "class HandDetector():\n",
    "    def __init__(self):\n",
    "        self.hand_detector = mp.solutions.hands.Hands()\n",
    "        self.drawer = mp.solutions.drawing_utils\n",
    "\n",
    "    # 画出手部节点    \n",
    "    def process(self, img, draw=True):\n",
    "        img_rgb = cv2.cvtColor(img, cv2.COLOR_BGR2RGB) # bgr to rgb\n",
    "        self.hands_data = self.hand_detector.process(img_rgb)\n",
    "        if draw:\n",
    "            if self.hands_data.multi_hand_landmarks:\n",
    "                for handlms in self.hands_data.multi_hand_landmarks:\n",
    "                    self.drawer.draw_landmarks(img, handlms, mp.solutions.hands.HAND_CONNECTIONS)\n",
    "\n",
    "    # 找到位置\n",
    "    def find_position(self, img):\n",
    "        h, w, c = img.shape\n",
    "        position = {'Left':{},'Right':{}}\n",
    "        if self.hands_data.multi_hand_landmarks:\n",
    "            i = 0\n",
    "            for point in self.hands_data.multi_handedness:\n",
    "                score = point.classification[0].score   # 置信率\n",
    "                if score >= 0.9:\n",
    "                    label = point.classification[0].label # 左右手标签\n",
    "                    hand_lms = self.hands_data.multi_hand_landmarks[i].landmark   # 每个点的位置\n",
    "                    for id, lm in enumerate(hand_lms):\n",
    "                        x, y = int(lm.x * w), int(lm.y * h)\n",
    "                        position[label][id] = (x, y)\n",
    "                i = i + 1\n",
    "        return position"
   ]
  },
  {
   "cell_type": "code",
   "execution_count": 2,
   "id": "086b00d1",
   "metadata": {},
   "outputs": [],
   "source": [
    "import time\n",
    "import math\n",
    "import cv2\n",
    "import mediapipe as mp\n",
    "from handUtils import HandDetector\n",
    "\n",
    "\n",
    "camera = cv2.VideoCapture(0)\n",
    "hand_detector = HandDetector()\n",
    "\n",
    "# 帧率\n",
    "pTime = 0\n",
    "cTime = 0\n",
    "\n",
    "while True:\n",
    "    success, img = camera.read()\n",
    "    if success:\n",
    "        img = cv2.flip(img,1) # 翻转\n",
    "\n",
    "        hand_detector.process(img)\n",
    "        position = hand_detector.find_position(img)\n",
    "\n",
    "        cv2.imshow('Video', img)\n",
    "\n",
    "    k = cv2.waitKey(1)\n",
    "    if k == ord('q'):\n",
    "        break\n",
    "\n",
    "camera.release()\n",
    "cv2.destroyAllWindows()"
   ]
  },
  {
   "cell_type": "code",
   "execution_count": 1,
   "id": "a112cf6b",
   "metadata": {},
   "outputs": [],
   "source": [
    "import time\n",
    "import math\n",
    "import cv2\n",
    "import mediapipe as mp\n",
    "import numpy as np\n",
    "from handUtils import HandDetector\n"
   ]
  },
  {
   "cell_type": "code",
   "execution_count": 4,
   "id": "afd81068",
   "metadata": {},
   "outputs": [
    {
     "name": "stdout",
     "output_type": "stream",
     "text": [
      "(10, 2)\n"
     ]
    }
   ],
   "source": [
    "pts = np.array([[70,190],[222,190],[280,61],[330,190],[467,190], [358,260],\n",
    "                [392,380],\n",
    "                [280,308],\n",
    "                [138,380],\n",
    "                [195,260]])\n",
    "# pts = pts.reshape((-1, 1, 2))  # reshape为 10x1x2 的 numpy.ndarray\n",
    "print(pts.shape)     # (10, 1, 2)\n"
   ]
  },
  {
   "cell_type": "code",
   "execution_count": 6,
   "id": "87efb617",
   "metadata": {},
   "outputs": [
    {
     "name": "stdout",
     "output_type": "stream",
     "text": [
      "[[0 0]\n",
      " [0 0]\n",
      " [0 0]\n",
      " [0 0]\n",
      " [0 0]]\n"
     ]
    }
   ],
   "source": [
    "x = np.zeros([5,2], dtype = int) \n",
    "print (x)"
   ]
  },
  {
   "cell_type": "code",
   "execution_count": 2,
   "id": "0a34d51e",
   "metadata": {},
   "outputs": [],
   "source": [
    "jointList = [(3,5),(4,9),(3,7),(4,6),(6,7)]\n",
    "base = (2,2)"
   ]
  },
  {
   "cell_type": "code",
   "execution_count": 3,
   "id": "bdb33a0c",
   "metadata": {},
   "outputs": [
    {
     "data": {
      "text/plain": [
       "5"
      ]
     },
     "execution_count": 3,
     "metadata": {},
     "output_type": "execute_result"
    }
   ],
   "source": [
    "len(jointList)"
   ]
  },
  {
   "cell_type": "code",
   "execution_count": 8,
   "id": "3103e979",
   "metadata": {},
   "outputs": [
    {
     "data": {
      "text/plain": [
       "3"
      ]
     },
     "execution_count": 8,
     "metadata": {},
     "output_type": "execute_result"
    }
   ],
   "source": [
    "jointList[0][0]"
   ]
  },
  {
   "cell_type": "code",
   "execution_count": 24,
   "id": "c74a6bb0",
   "metadata": {},
   "outputs": [
    {
     "data": {
      "text/plain": [
       "array([[1, 3],\n",
       "       [2, 7],\n",
       "       [1, 5],\n",
       "       [2, 4],\n",
       "       [4, 5]])"
      ]
     },
     "execution_count": 24,
     "metadata": {},
     "output_type": "execute_result"
    }
   ],
   "source": [
    "d = np.zeros([5,2], dtype = int) \n",
    "for i in range(0,5):\n",
    "    for j in range (0,2):\n",
    "        d[i][j] = jointList[i][j]-base[j]\n",
    "d"
   ]
  },
  {
   "cell_type": "code",
   "execution_count": 17,
   "id": "e71864c5",
   "metadata": {},
   "outputs": [
    {
     "data": {
      "text/plain": [
       "0"
      ]
     },
     "execution_count": 17,
     "metadata": {},
     "output_type": "execute_result"
    }
   ],
   "source": [
    "x[0][0]"
   ]
  },
  {
   "cell_type": "code",
   "execution_count": 25,
   "id": "b5bab926",
   "metadata": {},
   "outputs": [
    {
     "data": {
      "text/plain": [
       "array([0, 0, 0, 0, 0])"
      ]
     },
     "execution_count": 25,
     "metadata": {},
     "output_type": "execute_result"
    }
   ],
   "source": [
    "distance = np.zeros(5, dtype = int) \n",
    "distance"
   ]
  },
  {
   "cell_type": "code",
   "execution_count": 27,
   "id": "8d1c40ae",
   "metadata": {},
   "outputs": [
    {
     "data": {
      "text/plain": [
       "array([0., 0., 0., 0., 0.])"
      ]
     },
     "execution_count": 27,
     "metadata": {},
     "output_type": "execute_result"
    }
   ],
   "source": [
    "distance = np.zeros(5) \n",
    "distance"
   ]
  },
  {
   "cell_type": "code",
   "execution_count": 30,
   "id": "05120e32",
   "metadata": {},
   "outputs": [
    {
     "name": "stdout",
     "output_type": "stream",
     "text": [
      "distance: \n",
      "4\n",
      "9\n",
      "6\n",
      "6\n",
      "9\n"
     ]
    }
   ],
   "source": [
    "distance = np.zeros(5) \n",
    "if base:\n",
    "    print('distance: ')\n",
    "    for i in range(0,5):\n",
    "        for j in range (0,2):\n",
    "            if j == 0:\n",
    "                Xd = jointList[i][j]-base[j]                 \n",
    "            if j == 1:\n",
    "                Yd = jointList[i][j]-base[j]\n",
    "        print(Xd + Yd)\n"
   ]
  },
  {
   "cell_type": "code",
   "execution_count": 33,
   "id": "b53dffe0",
   "metadata": {},
   "outputs": [
    {
     "data": {
      "text/plain": [
       "3.1622776601683795"
      ]
     },
     "execution_count": 33,
     "metadata": {},
     "output_type": "execute_result"
    }
   ],
   "source": [
    "Xd = 1\n",
    "Yd = 3\n",
    "math.sqrt(Xd*Xd + Yd*Yd)"
   ]
  },
  {
   "cell_type": "code",
   "execution_count": 39,
   "id": "3a4be1e3",
   "metadata": {},
   "outputs": [
    {
     "name": "stdout",
     "output_type": "stream",
     "text": [
      "distance: \n",
      "3.0\n",
      "7.0\n",
      "5.0\n",
      "4.0\n",
      "6.0\n"
     ]
    }
   ],
   "source": [
    "distance = np.zeros(5) \n",
    "if base:\n",
    "    print('distance: ')\n",
    "    for i in range(0,5):\n",
    "        for j in range (0,2):\n",
    "            if j == 0:\n",
    "                Xd = jointList[i][j]-base[j]                 \n",
    "            if j == 1:\n",
    "                Yd = jointList[i][j]-base[j]\n",
    "        distance[i] = int(math.sqrt(Xd*Xd + Yd*Yd))\n",
    "        print(distance[i])"
   ]
  },
  {
   "cell_type": "code",
   "execution_count": 21,
   "id": "414bd093",
   "metadata": {},
   "outputs": [],
   "source": [
    "#求两点距离\n",
    "def joint_distance(x,y):\n",
    "    Xd = x[0] - y[0]\n",
    "    Yd = x[1] - y[1]\n",
    "    return math.sqrt(Xd*Xd + Yd*Yd)\n",
    "\n",
    "#结点与基点的距离计算\n",
    "def jointList_distance(jointList,base,Name='None '):\n",
    "    distance = np.zeros(len(jointList)) \n",
    "    if base:\n",
    "        #print(Name +'distance: ' )\n",
    "        for i in range(0,len(jointList)):                              \n",
    "            distance[i] = joint_distance(jointList[i],base) #求距离\n",
    "            #print(distance[i])\n",
    "    return distance"
   ]
  },
  {
   "cell_type": "code",
   "execution_count": 18,
   "id": "38d83ac0",
   "metadata": {},
   "outputs": [
    {
     "data": {
      "text/plain": [
       "[(3, 5), (4, 9), (3, 7), (4, 6), (6, 7)]"
      ]
     },
     "execution_count": 18,
     "metadata": {},
     "output_type": "execute_result"
    }
   ],
   "source": [
    "jointList"
   ]
  },
  {
   "cell_type": "code",
   "execution_count": 19,
   "id": "75d014c4",
   "metadata": {},
   "outputs": [
    {
     "data": {
      "text/plain": [
       "(2, 2)"
      ]
     },
     "execution_count": 19,
     "metadata": {},
     "output_type": "execute_result"
    }
   ],
   "source": [
    "base"
   ]
  },
  {
   "cell_type": "code",
   "execution_count": 22,
   "id": "69705522",
   "metadata": {},
   "outputs": [
    {
     "data": {
      "text/plain": [
       "array([3.16227766, 7.28010989, 5.09901951, 4.47213595, 6.40312424])"
      ]
     },
     "execution_count": 22,
     "metadata": {},
     "output_type": "execute_result"
    }
   ],
   "source": [
    "jointList_distance(jointList,base)"
   ]
  },
  {
   "cell_type": "code",
   "execution_count": 25,
   "id": "95c5552e",
   "metadata": {},
   "outputs": [
    {
     "data": {
      "text/plain": [
       "array([], dtype=float64)"
      ]
     },
     "execution_count": 25,
     "metadata": {},
     "output_type": "execute_result"
    }
   ],
   "source": [
    "joint = []\n",
    "jointList_distance(joint,base)"
   ]
  },
  {
   "cell_type": "code",
   "execution_count": 27,
   "id": "abc91dea",
   "metadata": {},
   "outputs": [],
   "source": [
    "def get_partOflms(pos,lms):\n",
    "    get_list = []\n",
    "    for i in pos:\n",
    "        if lms:\n",
    "            get_list.append(lms[i])\n",
    "    return get_list"
   ]
  },
  {
   "cell_type": "code",
   "execution_count": 28,
   "id": "fdc36f9e",
   "metadata": {},
   "outputs": [
    {
     "data": {
      "text/plain": [
       "list"
      ]
     },
     "execution_count": 28,
     "metadata": {},
     "output_type": "execute_result"
    }
   ],
   "source": [
    "list"
   ]
  },
  {
   "cell_type": "code",
   "execution_count": 37,
   "id": "9e59f37f",
   "metadata": {},
   "outputs": [
    {
     "data": {
      "text/plain": [
       "[array([[[3, 5]],\n",
       " \n",
       "        [[4, 6]],\n",
       " \n",
       "        [[4, 9]]], dtype=int32)]"
      ]
     },
     "execution_count": 37,
     "metadata": {},
     "output_type": "execute_result"
    }
   ],
   "source": [
    "list_lms = np.array(jointList,dtype=np.int32)\n",
    "hull_index = [0,3,1]\n",
    "hull = cv2.convexHull(list_lms[hull_index])\n",
    "hull"
   ]
  },
  {
   "cell_type": "code",
   "execution_count": 32,
   "id": "907b793b",
   "metadata": {},
   "outputs": [
    {
     "data": {
      "text/plain": [
       "array([[3, 5],\n",
       "       [4, 6],\n",
       "       [4, 9]])"
      ]
     },
     "execution_count": 32,
     "metadata": {},
     "output_type": "execute_result"
    }
   ],
   "source": [
    "hull = list_lms[hull_index]\n",
    "hull"
   ]
  },
  {
   "cell_type": "code",
   "execution_count": 33,
   "id": "4b263e02",
   "metadata": {},
   "outputs": [
    {
     "ename": "IndexError",
     "evalue": "index 5 is out of bounds for axis 0 with size 5",
     "output_type": "error",
     "traceback": [
      "\u001b[1;31m---------------------------------------------------------------------------\u001b[0m",
      "\u001b[1;31mIndexError\u001b[0m                                Traceback (most recent call last)",
      "Cell \u001b[1;32mIn[33], line 1\u001b[0m\n\u001b[1;32m----> 1\u001b[0m hull \u001b[38;5;241m=\u001b[39m \u001b[43mlist_lms\u001b[49m\u001b[43m[\u001b[49m\u001b[43mjointList\u001b[49m\u001b[43m]\u001b[49m\n\u001b[0;32m      2\u001b[0m hull\n",
      "\u001b[1;31mIndexError\u001b[0m: index 5 is out of bounds for axis 0 with size 5"
     ]
    }
   ],
   "source": []
  },
  {
   "cell_type": "code",
   "execution_count": 56,
   "id": "df726d89",
   "metadata": {},
   "outputs": [],
   "source": [
    "m = (0,2)\n",
    "n = (2,2)"
   ]
  },
  {
   "cell_type": "code",
   "execution_count": 39,
   "id": "847a99af",
   "metadata": {},
   "outputs": [
    {
     "data": {
      "text/plain": [
       "4"
      ]
     },
     "execution_count": 39,
     "metadata": {},
     "output_type": "execute_result"
    }
   ],
   "source": [
    "np.dot(m,n)"
   ]
  },
  {
   "cell_type": "code",
   "execution_count": 40,
   "id": "bd486a06",
   "metadata": {},
   "outputs": [
    {
     "data": {
      "text/plain": [
       "3.7416573867739413"
      ]
     },
     "execution_count": 40,
     "metadata": {},
     "output_type": "execute_result"
    }
   ],
   "source": [
    "x = np.array([0, 1, 2, 3])\n",
    "np.linalg.norm(x)"
   ]
  },
  {
   "cell_type": "code",
   "execution_count": 53,
   "id": "e95521cf",
   "metadata": {},
   "outputs": [
    {
     "data": {
      "text/plain": [
       "-1.7320508075688772"
      ]
     },
     "execution_count": 53,
     "metadata": {},
     "output_type": "execute_result"
    }
   ],
   "source": [
    "-(3**0.5)"
   ]
  },
  {
   "cell_type": "code",
   "execution_count": 47,
   "id": "73998499",
   "metadata": {},
   "outputs": [
    {
     "data": {
      "text/plain": [
       "5.0"
      ]
     },
     "execution_count": 47,
     "metadata": {},
     "output_type": "execute_result"
    }
   ],
   "source": [
    "np.dot(a,a)**0.5"
   ]
  },
  {
   "cell_type": "code",
   "execution_count": 48,
   "id": "2e78fa0a",
   "metadata": {},
   "outputs": [
    {
     "data": {
      "text/plain": [
       "0.7071067811865475"
      ]
     },
     "execution_count": 48,
     "metadata": {},
     "output_type": "execute_result"
    }
   ],
   "source": [
    "cos = np.dot(m,n) / (np.dot(m,m)**0.5 * np.dot(n,n)**0.5)\n",
    "cos"
   ]
  },
  {
   "cell_type": "code",
   "execution_count": 50,
   "id": "114ebcaf",
   "metadata": {},
   "outputs": [],
   "source": [
    "def angle(m, n):\n",
    "    cos = np.dot(m,n) / (np.dot(m,m)**0.5 * np.dot(n,n)**0.5)   # cos = m.n/|m|*|n|        \n",
    "    return math.degrees(math.acos(cos))"
   ]
  },
  {
   "cell_type": "code",
   "execution_count": 64,
   "id": "db6d45b8",
   "metadata": {},
   "outputs": [
    {
     "data": {
      "text/plain": [
       "60.00000000000001"
      ]
     },
     "execution_count": 64,
     "metadata": {},
     "output_type": "execute_result"
    }
   ],
   "source": [
    "angle(n,m)"
   ]
  },
  {
   "cell_type": "code",
   "execution_count": 62,
   "id": "221efb9e",
   "metadata": {},
   "outputs": [],
   "source": [
    "m = (1,-(3**0.5))\n",
    "n = (-1, -(3**0.5))"
   ]
  },
  {
   "cell_type": "code",
   "execution_count": 61,
   "id": "c44e6d8e",
   "metadata": {},
   "outputs": [
    {
     "data": {
      "text/plain": [
       "array([-2,  0])"
      ]
     },
     "execution_count": 61,
     "metadata": {},
     "output_type": "execute_result"
    }
   ],
   "source": [
    "m = np.array(m)\n",
    "n = np.array(n)\n",
    "m - n"
   ]
  },
  {
   "cell_type": "code",
   "execution_count": 75,
   "id": "4cf484fa",
   "metadata": {},
   "outputs": [
    {
     "data": {
      "text/plain": [
       "True"
      ]
     },
     "execution_count": 75,
     "metadata": {},
     "output_type": "execute_result"
    }
   ],
   "source": [
    "a = [8]\n",
    "b = [8,12]\n",
    "a2 = set(a)\n",
    "b2 = set(b)\n",
    "\n",
    "a2.issubset(b2)\n"
   ]
  },
  {
   "cell_type": "code",
   "execution_count": 78,
   "id": "b8fa9038",
   "metadata": {},
   "outputs": [
    {
     "data": {
      "text/plain": [
       "False"
      ]
     },
     "execution_count": 78,
     "metadata": {},
     "output_type": "execute_result"
    }
   ],
   "source": [
    "a = [8,15]\n",
    "b = [8,12]\n",
    "a==b"
   ]
  },
  {
   "cell_type": "code",
   "execution_count": 79,
   "id": "124d50f5",
   "metadata": {},
   "outputs": [
    {
     "data": {
      "text/plain": [
       "False"
      ]
     },
     "execution_count": 79,
     "metadata": {},
     "output_type": "execute_result"
    }
   ],
   "source": [
    "list = []\n",
    "any(list)"
   ]
  },
  {
   "cell_type": "code",
   "execution_count": null,
   "id": "6e662365",
   "metadata": {},
   "outputs": [],
   "source": [
    "import time\n",
    "import pyautogui as pag\n",
    "\n",
    "try:\n",
    "    while True:\n",
    "        print(\"Press Ctrl-C to end\")\n",
    "        screenWidth, screenHeight = pag.size()  # 获取屏幕的尺寸\n",
    "        x, y = pag.position()  # 返回鼠标的坐标\n",
    "        print(\"Screen size: (%s %s),  Position : (%s, %s)\\n\" % (screenWidth, screenHeight, x, y))  # 打印坐标\n",
    " \n",
    "        time.sleep(1)  # 每个1s中打印一次\n",
    "\n",
    "except KeyboardInterrupt:\n",
    "    print('end')"
   ]
  },
  {
   "cell_type": "code",
   "execution_count": null,
   "id": "57094b7b",
   "metadata": {},
   "outputs": [],
   "source": []
  }
 ],
 "metadata": {
  "kernelspec": {
   "display_name": "Python 3 (ipykernel)",
   "language": "python",
   "name": "python3"
  },
  "language_info": {
   "codemirror_mode": {
    "name": "ipython",
    "version": 3
   },
   "file_extension": ".py",
   "mimetype": "text/x-python",
   "name": "python",
   "nbconvert_exporter": "python",
   "pygments_lexer": "ipython3",
   "version": "3.9.18"
  }
 },
 "nbformat": 4,
 "nbformat_minor": 5
}
